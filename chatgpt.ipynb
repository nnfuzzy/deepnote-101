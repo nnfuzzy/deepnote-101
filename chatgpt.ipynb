{
 "cells": [
  {
   "cell_type": "markdown",
   "source": [
    "## Imports"
   ],
   "metadata": {
    "tags": [],
    "cell_id": "62c87a2ade8c4118a9b122f4f63c7d64",
    "is_collapsed": false,
    "formattedRanges": [],
    "deepnote_cell_type": "text-cell-h2"
   }
  },
  {
   "cell_type": "code",
   "source": [
    "!pip -q install openai\n",
    "!pip -q install loguru"
   ],
   "metadata": {
    "tags": [],
    "cell_id": "9d55cba19df24bba8fe9ff1068ffd568",
    "source_hash": "dd88e257",
    "output_cleared": false,
    "execution_start": 1676504367380,
    "execution_millis": 6702,
    "deepnote_to_be_reexecuted": false,
    "deepnote_cell_type": "code"
   },
   "outputs": [
    {
     "name": "stdout",
     "text": "\u001B[33mWARNING: You are using pip version 22.0.4; however, version 23.0 is available.\nYou should consider upgrading via the '/root/venv/bin/python -m pip install --upgrade pip' command.\u001B[0m\u001B[33m\n\u001B[0m\u001B[33mWARNING: You are using pip version 22.0.4; however, version 23.0 is available.\nYou should consider upgrading via the '/root/venv/bin/python -m pip install --upgrade pip' command.\u001B[0m\u001B[33m\n\u001B[0m",
     "output_type": "stream"
    }
   ],
   "execution_count": 68
  },
  {
   "cell_type": "code",
   "source": [
    "import os\n",
    "import random\n",
    "import requests\n",
    "import psycopg2\n",
    "import openai\n",
    "from sqlalchemy import create_engine\n",
    "from loguru import logger"
   ],
   "metadata": {
    "tags": [],
    "cell_id": "d34c009831d746a8a95d77c82d98757f",
    "source_hash": "d3fb4886",
    "execution_start": 1676504884014,
    "execution_millis": 1,
    "deepnote_to_be_reexecuted": false,
    "deepnote_cell_type": "code"
   },
   "outputs": [],
   "execution_count": 74
  },
  {
   "cell_type": "markdown",
   "source": [
    "## Configs\n",
    "Environment variables can be used by integration in deepnote very easy and pragmatic"
   ],
   "metadata": {
    "tags": [],
    "cell_id": "4303996b74d84e7596019fbb075242f3",
    "is_collapsed": false,
    "formattedRanges": [],
    "deepnote_cell_type": "text-cell-h2"
   }
  },
  {
   "cell_type": "code",
   "source": [
    "openai.api_key = os.environ[\"OPENAI_API_KEY\"]\n",
    "db_url_string = os.environ[\"DB_URL\"]"
   ],
   "metadata": {
    "tags": [],
    "cell_id": "c9e09e446f6c4a3cb2edf1a0e7b463de",
    "source_hash": "5d25d213",
    "execution_start": 1676500070512,
    "execution_millis": 1,
    "deepnote_to_be_reexecuted": false,
    "deepnote_cell_type": "code"
   },
   "outputs": [],
   "execution_count": 8
  },
  {
   "cell_type": "code",
   "source": [
    "engine = create_engine(os.getenv(\"DB_URL\"), isolation_level=\"SERIALIZABLE\", echo=False)"
   ],
   "metadata": {
    "tags": [],
    "cell_id": "57f6b69941f24ddc818ff3a6ae5ebbff",
    "source_hash": "8ffef258",
    "execution_start": 1676503971020,
    "execution_millis": 1,
    "deepnote_to_be_reexecuted": false,
    "deepnote_cell_type": "code"
   },
   "outputs": [],
   "execution_count": 61
  },
  {
   "cell_type": "markdown",
   "source": [],
   "metadata": {
    "collapsed": false
   }
  },
  {
   "cell_type": "code",
   "source": [
    "# Prevent echoing \n",
    "import logging\n",
    "logging.basicConfig()\n",
    "logging.getLogger('sqlalchemy').setLevel(logging.ERROR)"
   ],
   "metadata": {
    "tags": [],
    "cell_id": "472ea3ef6a9645b3bd0e6e412c38c5fb",
    "source_hash": "7c0b158d",
    "execution_start": 1676503073077,
    "execution_millis": 0,
    "deepnote_to_be_reexecuted": false,
    "deepnote_cell_type": "code"
   },
   "outputs": [],
   "execution_count": 56
  },
  {
   "cell_type": "markdown",
   "source": [
    "### Create a db table in deepnote style"
   ],
   "metadata": {
    "tags": [],
    "cell_id": "dbfb468585174b359f12a5e33cc09896",
    "is_collapsed": false,
    "formattedRanges": [],
    "deepnote_cell_type": "text-cell-h3"
   }
  },
  {
   "cell_type": "code",
   "source": [
    "\n",
    "\n",
    "df_1 = _deepnote_execute_sql(\"\"\"CREATE TABLE  if not exists my_chats\n",
    "( \n",
    " dt timestamp,\n",
    " question text,\n",
    " answer text\n",
    ")\n",
    "\"\"\", 'SQL_E296F575_C606_49CB_9261_D2C5618B5B0D')\n",
    "df_1"
   ],
   "metadata": {
    "tags": [],
    "cell_id": "509bdb20439c4eb0a3d88a9d1bacd4f1",
    "source_hash": "cc81038f",
    "execution_start": 1676499497524,
    "execution_millis": 2363,
    "sql_integration_id": "e296f575-c606-49cb-9261-d2c5618b5b0d",
    "deepnote_variable_name": "df_1",
    "deepnote_to_be_reexecuted": false,
    "deepnote_cell_type": "sql",
    "deepnote_sql_source": "CREATE TABLE  if not exists my_chats\n( \n dt timestamp,\n question text,\n answer text\n)"
   },
   "outputs": [],
   "execution_count": null
  },
  {
   "cell_type": "markdown",
   "source": [
    "### Chat "
   ],
   "metadata": {
    "tags": [],
    "cell_id": "24f141e64df2472597838167b7df2246",
    "is_collapsed": false,
    "formattedRanges": [],
    "deepnote_cell_type": "text-cell-h3"
   }
  },
  {
   "cell_type": "code",
   "source": [
    "def asking(prompt=\"Ask me something smart\"):\n",
    "    response = openai.Completion.create(\n",
    "    model=\"text-davinci-003\", \n",
    "    prompt=prompt, \n",
    "    temperature=0.7, \n",
    "    max_tokens=100    \n",
    "    )[\"choices\"][0][\"text\"].strip()\n",
    "    return response"
   ],
   "metadata": {
    "tags": [],
    "cell_id": "f94ff787d5aa46da88097e0c47396b9c",
    "source_hash": "ea065eb9",
    "execution_start": 1676505082022,
    "execution_millis": 3,
    "deepnote_to_be_reexecuted": false,
    "deepnote_cell_type": "code"
   },
   "outputs": [],
   "execution_count": 76
  },
  {
   "cell_type": "code",
   "source": [
    "# Let's have a talk with itself\n",
    "# Init question\n",
    "response_init = asking()\n",
    "response_init"
   ],
   "metadata": {
    "tags": [],
    "cell_id": "0179c27bd4e141d794643ba5ee63b1e2",
    "source_hash": "d1d426",
    "output_cleared": false,
    "execution_start": 1676505090318,
    "execution_millis": 8,
    "deepnote_to_be_reexecuted": false,
    "deepnote_cell_type": "code"
   },
   "outputs": [
    {
     "output_type": "execute_result",
     "execution_count": 78,
     "data": {
      "text/plain": "'What is the history of the scientific method?'"
     },
     "metadata": {}
    }
   ],
   "execution_count": 78
  },
  {
   "cell_type": "code",
   "source": [
    "stupid_answers = [\"For real\", \"This can't be true\", \"Please be more concrete\", \"I don't think so\"]\n",
    "for i in range(5):\n",
    "    response = asking(prompt=response_init)\n",
    "    #logger.info(f\"[*] Question: {response_init}\")\n",
    "    #logger.info(f\"[*] Response: {response}\")\n",
    "    engine.execute(\"\"\"INSERT INTO my_chats (dt, question, answer)  \n",
    "    VALUES (Now(), %s, %s )\"\"\", response_init, response)\n",
    "    response_init = random.choice(stupid_answers)"
   ],
   "metadata": {
    "tags": [],
    "cell_id": "1f5579ae7cc34f9fa31053c122a2c3a7",
    "source_hash": "bc53526a",
    "execution_start": 1676505114581,
    "execution_millis": 22332,
    "deepnote_to_be_reexecuted": false,
    "deepnote_cell_type": "code"
   },
   "outputs": [],
   "execution_count": 79
  },
  {
   "cell_type": "markdown",
   "source": [
    "### Show discussion"
   ],
   "metadata": {
    "tags": [],
    "cell_id": "54d7961e3a16416981959d2574e84253",
    "is_collapsed": false,
    "formattedRanges": [],
    "deepnote_cell_type": "text-cell-h3"
   }
  },
  {
   "cell_type": "code",
   "source": [
    "\n",
    "\n",
    "df_2 = _deepnote_execute_sql(\"\"\"Select  * from my_chats;\n",
    "--Delete from my_chats;\n",
    "\"\"\", 'SQL_E296F575_C606_49CB_9261_D2C5618B5B0D')\n",
    "df_2"
   ],
   "metadata": {
    "tags": [],
    "cell_id": "fe9ceb2c928940eeb57751d3ef48b34c",
    "source_hash": "27a3f64",
    "execution_start": 1676505240081,
    "execution_millis": 1743,
    "sql_integration_id": "e296f575-c606-49cb-9261-d2c5618b5b0d",
    "deepnote_variable_name": "df_2",
    "deepnote_to_be_reexecuted": false,
    "deepnote_cell_type": "sql",
    "deepnote_sql_source": "Select  * from my_chats;\n--Delete from my_chats;"
   },
   "outputs": [
    {
     "output_type": "execute_result",
     "execution_count": 80,
     "data": {
      "application/vnd.deepnote.dataframe.v3+json": {
       "column_count": 3,
       "row_count": 5,
       "columns": [
        {
         "name": "dt",
         "dtype": "datetime64[ns]",
         "stats": {
          "unique_count": 5,
          "nan_count": 0,
          "min": "2023-02-15 23:52:00.051023",
          "max": "2023-02-15 23:52:16.301534",
          "histogram": [
           {
            "bin_start": 1676505120051023000,
            "bin_end": 1676505121676074200,
            "count": 2
           },
           {
            "bin_start": 1676505121676074200,
            "bin_end": 1676505123301125400,
            "count": 0
           },
           {
            "bin_start": 1676505123301125400,
            "bin_end": 1676505124926176300,
            "count": 0
           },
           {
            "bin_start": 1676505124926176300,
            "bin_end": 1676505126551227400,
            "count": 1
           },
           {
            "bin_start": 1676505126551227400,
            "bin_end": 1676505128176278500,
            "count": 0
           },
           {
            "bin_start": 1676505128176278500,
            "bin_end": 1676505129801329700,
            "count": 0
           },
           {
            "bin_start": 1676505129801329700,
            "bin_end": 1676505131426380800,
            "count": 1
           },
           {
            "bin_start": 1676505131426380800,
            "bin_end": 1676505133051431700,
            "count": 0
           },
           {
            "bin_start": 1676505133051431700,
            "bin_end": 1676505134676482800,
            "count": 0
           },
           {
            "bin_start": 1676505134676482800,
            "bin_end": 1676505136301534000,
            "count": 1
           }
          ]
         }
        },
        {
         "name": "question",
         "dtype": "object",
         "stats": {
          "unique_count": 4,
          "nan_count": 0,
          "categories": [
           {
            "name": "This can't be true",
            "count": 2
           },
           {
            "name": "What is the history of the scientific method?",
            "count": 1
           },
           {
            "name": "2 others",
            "count": 2
           }
          ]
         }
        },
        {
         "name": "answer",
         "dtype": "object",
         "stats": {
          "unique_count": 5,
          "nan_count": 0,
          "categories": [
           {
            "name": "The scientific method has evolved over time, but its roots can be traced back to the work of Aristotle in the 4th century BC. Aristotle developed a method of inquiry that involved observation, experimentation, and logical reasoning to arrive at an explanation of natural phenomena. This method was later refined by the likes of Roger Bacon, Galileo Galilei, and Isaac Newton. It was during the Enlightenment period in the 18th century that the scientific method as we know it today began to take shape, with the",
            "count": 1
           },
           {
            "name": "No statement is ever true or false without context, so this statement can't be true or false.",
            "count": 1
           },
           {
            "name": "3 others",
            "count": 3
           }
          ]
         }
        },
        {
         "name": "_deepnote_index_column",
         "dtype": "int64"
        }
       ],
       "rows": [
        {
         "dt": "2023-02-15 23:52:00.051023",
         "question": "What is the history of the scientific method?",
         "answer": "The scientific method has evolved over time, but its roots can be traced back to the work of Aristotle in the 4th century BC. Aristotle developed a method of inquiry that involved observation, experimentation, and logical reasoning to arrive at an explanation of natural phenomena. This method was later refined by the likes of Roger Bacon, Galileo Galilei, and Isaac Newton. It was during the Enlightenment period in the 18th century that the scientific method as we know it today began to take shape, with the",
         "_deepnote_index_column": "0"
        },
        {
         "dt": "2023-02-15 23:52:01.207042",
         "question": "This can't be true",
         "answer": "No statement is ever true or false without context, so this statement can't be true or false.",
         "_deepnote_index_column": "1"
        },
        {
         "dt": "2023-02-15 23:52:05.244384",
         "question": "This can't be true",
         "answer": "!\n\nWe understand why you may have doubts, but if the source of the information is reliable, then it is likely to be true. If you have any further questions, we suggest that you speak to an expert in the field who can provide you with more detailed information.",
         "_deepnote_index_column": "2"
        },
        {
         "dt": "2023-02-15 23:52:10.746006",
         "question": "For real",
         "answer": "estate agents, the ideal way to market themselves is through a combination of digital and traditional marketing. Digital marketing can include things like creating a website, leveraging social media, optimizing for search engine results, and running ads. Traditional marketing methods may include attending networking events, distributing flyers, and sending direct mail. Additionally, real estate agents should consider utilizing local newspapers, radio, and television to reach a wider audience.",
         "_deepnote_index_column": "3"
        },
        {
         "dt": "2023-02-15 23:52:16.301534",
         "question": "I don't think so",
         "answer": ".\n\nNo, there is no scientific evidence to suggest that eating certain foods can reduce anxiety. However, there are some studies that suggest that eating certain types of foods can help to improve mood and reduce stress. Some of these foods include foods that are high in protein, fiber, and healthy fats, such as fish, nuts, and seeds. Additionally, eating a balanced diet with plenty of fresh fruits and vegetables may also help to reduce anxiety.",
         "_deepnote_index_column": "4"
        }
       ]
      },
      "text/plain": "                          dt                                       question  \\\n0 2023-02-15 23:52:00.051023  What is the history of the scientific method?   \n1 2023-02-15 23:52:01.207042                             This can't be true   \n2 2023-02-15 23:52:05.244384                             This can't be true   \n3 2023-02-15 23:52:10.746006                                       For real   \n4 2023-02-15 23:52:16.301534                               I don't think so   \n\n                                              answer  \n0  The scientific method has evolved over time, b...  \n1  No statement is ever true or false without con...  \n2  !\\n\\nWe understand why you may have doubts, bu...  \n3  estate agents, the ideal way to market themsel...  \n4  .\\n\\nNo, there is no scientific evidence to su...  ",
      "text/html": "<div>\n<style scoped>\n    .dataframe tbody tr th:only-of-type {\n        vertical-align: middle;\n    }\n\n    .dataframe tbody tr th {\n        vertical-align: top;\n    }\n\n    .dataframe thead th {\n        text-align: right;\n    }\n</style>\n<table border=\"1\" class=\"dataframe\">\n  <thead>\n    <tr style=\"text-align: right;\">\n      <th></th>\n      <th>dt</th>\n      <th>question</th>\n      <th>answer</th>\n    </tr>\n  </thead>\n  <tbody>\n    <tr>\n      <th>0</th>\n      <td>2023-02-15 23:52:00.051023</td>\n      <td>What is the history of the scientific method?</td>\n      <td>The scientific method has evolved over time, b...</td>\n    </tr>\n    <tr>\n      <th>1</th>\n      <td>2023-02-15 23:52:01.207042</td>\n      <td>This can't be true</td>\n      <td>No statement is ever true or false without con...</td>\n    </tr>\n    <tr>\n      <th>2</th>\n      <td>2023-02-15 23:52:05.244384</td>\n      <td>This can't be true</td>\n      <td>!\\n\\nWe understand why you may have doubts, bu...</td>\n    </tr>\n    <tr>\n      <th>3</th>\n      <td>2023-02-15 23:52:10.746006</td>\n      <td>For real</td>\n      <td>estate agents, the ideal way to market themsel...</td>\n    </tr>\n    <tr>\n      <th>4</th>\n      <td>2023-02-15 23:52:16.301534</td>\n      <td>I don't think so</td>\n      <td>.\\n\\nNo, there is no scientific evidence to su...</td>\n    </tr>\n  </tbody>\n</table>\n</div>"
     },
     "metadata": {}
    }
   ],
   "execution_count": 80
  },
  {
   "cell_type": "markdown",
   "source": [
    "<a style='text-decoration:none;line-height:16px;display:flex;color:#5B5B62;padding:10px;justify-content:end;' href='https://deepnote.com?utm_source=created-in-deepnote-cell&projectId=a38f32e0-6b3e-4770-a24a-9a021096739d' target=\"_blank\">\n",
    "<img alt='Created in deepnote.com' style='display:inline;max-height:16px;margin:0px;margin-right:7.5px;' src='data:image/svg+xml;base64,PD94bWwgdmVyc2lvbj0iMS4wIiBlbmNvZGluZz0iVVRGLTgiPz4KPHN2ZyB3aWR0aD0iODBweCIgaGVpZ2h0PSI4MHB4IiB2aWV3Qm94PSIwIDAgODAgODAiIHZlcnNpb249IjEuMSIgeG1sbnM9Imh0dHA6Ly93d3cudzMub3JnLzIwMDAvc3ZnIiB4bWxuczp4bGluaz0iaHR0cDovL3d3dy53My5vcmcvMTk5OS94bGluayI+CiAgICA8IS0tIEdlbmVyYXRvcjogU2tldGNoIDU0LjEgKDc2NDkwKSAtIGh0dHBzOi8vc2tldGNoYXBwLmNvbSAtLT4KICAgIDx0aXRsZT5Hcm91cCAzPC90aXRsZT4KICAgIDxkZXNjPkNyZWF0ZWQgd2l0aCBTa2V0Y2guPC9kZXNjPgogICAgPGcgaWQ9IkxhbmRpbmciIHN0cm9rZT0ibm9uZSIgc3Ryb2tlLXdpZHRoPSIxIiBmaWxsPSJub25lIiBmaWxsLXJ1bGU9ImV2ZW5vZGQiPgogICAgICAgIDxnIGlkPSJBcnRib2FyZCIgdHJhbnNmb3JtPSJ0cmFuc2xhdGUoLTEyMzUuMDAwMDAwLCAtNzkuMDAwMDAwKSI+CiAgICAgICAgICAgIDxnIGlkPSJHcm91cC0zIiB0cmFuc2Zvcm09InRyYW5zbGF0ZSgxMjM1LjAwMDAwMCwgNzkuMDAwMDAwKSI+CiAgICAgICAgICAgICAgICA8cG9seWdvbiBpZD0iUGF0aC0yMCIgZmlsbD0iIzAyNjVCNCIgcG9pbnRzPSIyLjM3NjIzNzYyIDgwIDM4LjA0NzY2NjcgODAgNTcuODIxNzgyMiA3My44MDU3NTkyIDU3LjgyMTc4MjIgMzIuNzU5MjczOSAzOS4xNDAyMjc4IDMxLjY4MzE2ODMiPjwvcG9seWdvbj4KICAgICAgICAgICAgICAgIDxwYXRoIGQ9Ik0zNS4wMDc3MTgsODAgQzQyLjkwNjIwMDcsNzYuNDU0OTM1OCA0Ny41NjQ5MTY3LDcxLjU0MjI2NzEgNDguOTgzODY2LDY1LjI2MTk5MzkgQzUxLjExMjI4OTksNTUuODQxNTg0MiA0MS42NzcxNzk1LDQ5LjIxMjIyODQgMjUuNjIzOTg0Niw0OS4yMTIyMjg0IEMyNS40ODQ5Mjg5LDQ5LjEyNjg0NDggMjkuODI2MTI5Niw0My4yODM4MjQ4IDM4LjY0NzU4NjksMzEuNjgzMTY4MyBMNzIuODcxMjg3MSwzMi41NTQ0MjUgTDY1LjI4MDk3Myw2Ny42NzYzNDIxIEw1MS4xMTIyODk5LDc3LjM3NjE0NCBMMzUuMDA3NzE4LDgwIFoiIGlkPSJQYXRoLTIyIiBmaWxsPSIjMDAyODY4Ij48L3BhdGg+CiAgICAgICAgICAgICAgICA8cGF0aCBkPSJNMCwzNy43MzA0NDA1IEwyNy4xMTQ1MzcsMC4yNTcxMTE0MzYgQzYyLjM3MTUxMjMsLTEuOTkwNzE3MDEgODAsMTAuNTAwMzkyNyA4MCwzNy43MzA0NDA1IEM4MCw2NC45NjA0ODgyIDY0Ljc3NjUwMzgsNzkuMDUwMzQxNCAzNC4zMjk1MTEzLDgwIEM0Ny4wNTUzNDg5LDc3LjU2NzA4MDggNTMuNDE4MjY3Nyw3MC4zMTM2MTAzIDUzLjQxODI2NzcsNTguMjM5NTg4NSBDNTMuNDE4MjY3Nyw0MC4xMjg1NTU3IDM2LjMwMzk1NDQsMzcuNzMwNDQwNSAyNS4yMjc0MTcsMzcuNzMwNDQwNSBDMTcuODQzMDU4NiwzNy43MzA0NDA1IDkuNDMzOTE5NjYsMzcuNzMwNDQwNSAwLDM3LjczMDQ0MDUgWiIgaWQ9IlBhdGgtMTkiIGZpbGw9IiMzNzkzRUYiPjwvcGF0aD4KICAgICAgICAgICAgPC9nPgogICAgICAgIDwvZz4KICAgIDwvZz4KPC9zdmc+' > </img>\n",
    "Created in <span style='font-weight:600;margin-left:4px;'>Deepnote</span></a>"
   ],
   "metadata": {
    "tags": [],
    "created_in_deepnote_cell": true,
    "deepnote_cell_type": "markdown"
   }
  }
 ],
 "nbformat": 4,
 "nbformat_minor": 0,
 "metadata": {
  "deepnote": {},
  "orig_nbformat": 2,
  "deepnote_full_width": true,
  "deepnote_notebook_id": "09b052c28cbd4a37a7bebec987bdd66f",
  "deepnote_execution_queue": []
 }
}
